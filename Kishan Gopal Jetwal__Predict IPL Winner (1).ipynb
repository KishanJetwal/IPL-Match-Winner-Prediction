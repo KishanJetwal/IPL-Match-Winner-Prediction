{
 "cells": [
  {
   "cell_type": "markdown",
   "id": "d21c638c-1bc6-4f13-804f-822cf0cffd0d",
   "metadata": {},
   "source": [
    "# Importing the Basic Libraries"
   ]
  },
  {
   "cell_type": "code",
   "execution_count": null,
   "id": "7213fc0d-4cd5-4bba-8b35-f6c0035e2ae0",
   "metadata": {},
   "outputs": [],
   "source": [
    "import pandas as pd\n",
    "import numpy as np\n",
    "import matplotlib.pyplot as plt\n",
    "import seaborn as sns\n",
    "%matplotlib inline "
   ]
  },
  {
   "cell_type": "code",
   "execution_count": null,
   "id": "fd75b7e8-474d-4348-8abe-721f4855e283",
   "metadata": {},
   "outputs": [],
   "source": [
    "match = pd.read_csv('matches.csv')\n",
    "match.head()"
   ]
  },
  {
   "cell_type": "code",
   "execution_count": null,
   "id": "06732cfc-a6db-4d0b-82c5-6f3142d3cc9c",
   "metadata": {},
   "outputs": [],
   "source": [
    "delivery = pd.read_csv('deliveries.csv')\n",
    "delivery.head()"
   ]
  },
  {
   "cell_type": "code",
   "execution_count": null,
   "id": "c59c72b2-1b41-4a21-a7c5-fcdf980c6db6",
   "metadata": {},
   "outputs": [],
   "source": [
    "delivery.columns"
   ]
  },
  {
   "cell_type": "code",
   "execution_count": null,
   "id": "437738ac-74a7-408e-bbaf-2cf0ced3381c",
   "metadata": {},
   "outputs": [],
   "source": [
    "match.shape"
   ]
  },
  {
   "cell_type": "code",
   "execution_count": null,
   "id": "a82ea960-7e0c-48e6-96c3-57c503c83ffd",
   "metadata": {},
   "outputs": [],
   "source": [
    "delivery.shape"
   ]
  },
  {
   "cell_type": "markdown",
   "id": "9ca8da97-caa7-46b9-8212-3e80acc617dd",
   "metadata": {
    "jp-MarkdownHeadingCollapsed": true,
    "tags": []
   },
   "source": [
    "Balling Team, Batting Team, City, Run Left, Wicket Left, Total Runs, CRR, RRR, Result\n"
   ]
  },
  {
   "cell_type": "code",
   "execution_count": null,
   "id": "2f4de6ef-9161-45eb-babd-4b51f40f92b1",
   "metadata": {},
   "outputs": [],
   "source": [
    "delivery.tail()"
   ]
  },
  {
   "cell_type": "code",
   "execution_count": null,
   "id": "a0b9c1cb-b5fd-4018-afb6-5dcfee79d526",
   "metadata": {},
   "outputs": [],
   "source": [
    "delivery.groupby(['match_id', 'inning']).sum()"
   ]
  },
  {
   "cell_type": "code",
   "execution_count": null,
   "id": "f976e603-2280-499c-a08f-785bcefd201d",
   "metadata": {},
   "outputs": [],
   "source": [
    "delivery.groupby(['match_id', 'inning']).sum()['total_runs']"
   ]
  },
  {
   "cell_type": "code",
   "execution_count": null,
   "id": "3ab0e63e-c250-4f66-aa5c-67aa8648dbea",
   "metadata": {},
   "outputs": [],
   "source": [
    "delivery.groupby(['match_id', 'inning']).sum()['total_runs'].reset_index()"
   ]
  },
  {
   "cell_type": "code",
   "execution_count": null,
   "id": "e911e093-3564-42b4-98b3-a12832acc101",
   "metadata": {},
   "outputs": [],
   "source": [
    "total_score_df = delivery.groupby(['match_id', 'inning']).sum()['total_runs'].reset_index()"
   ]
  },
  {
   "cell_type": "code",
   "execution_count": null,
   "id": "b9e36d36-a676-4200-9ffe-72352385e0b8",
   "metadata": {},
   "outputs": [],
   "source": [
    "total_score_df.head()"
   ]
  },
  {
   "cell_type": "code",
   "execution_count": null,
   "id": "8477a159-5eed-4942-bf62-ade4c7292d53",
   "metadata": {},
   "outputs": [],
   "source": [
    "[total_score_df['inning'] == 1]"
   ]
  },
  {
   "cell_type": "code",
   "execution_count": null,
   "id": "93d72021-de93-4157-b66d-b013969c8b40",
   "metadata": {},
   "outputs": [],
   "source": [
    "total_score_df = total_score_df[total_score_df['inning'] == 1]"
   ]
  },
  {
   "cell_type": "code",
   "execution_count": null,
   "id": "b6e5515b-3704-4394-bcb6-1aa524fb83a3",
   "metadata": {},
   "outputs": [],
   "source": [
    "match['win_by_runs'].plot.hist()"
   ]
  },
  {
   "cell_type": "code",
   "execution_count": null,
   "id": "75b17fe7-3a85-4008-9480-13b19c79945d",
   "metadata": {},
   "outputs": [],
   "source": [
    "match['win_by_wickets'].plot.hist()"
   ]
  },
  {
   "cell_type": "code",
   "execution_count": null,
   "id": "966cb832-a060-4e8b-a53c-68f9e0efadd5",
   "metadata": {},
   "outputs": [],
   "source": [
    "plt.figure(figsize=(30,10))\n",
    "sns.countplot(match['city'])"
   ]
  },
  {
   "cell_type": "code",
   "execution_count": null,
   "id": "d845efda-095b-4edd-8e73-e4f6cfbf8f96",
   "metadata": {},
   "outputs": [],
   "source": [
    "plt.figure(figsize=(30,10))\n",
    "sns.countplot(match['toss_winner'])"
   ]
  },
  {
   "cell_type": "code",
   "execution_count": null,
   "id": "4a1c0de0-8302-4ac7-b37e-6d0713085ae5",
   "metadata": {},
   "outputs": [],
   "source": [
    "plt.figure(figsize=(30,10))\n",
    "sns.countplot(match['winner'])"
   ]
  },
  {
   "cell_type": "code",
   "execution_count": null,
   "id": "caa00493-e41a-44c4-b7fa-f85e8fd0c282",
   "metadata": {},
   "outputs": [],
   "source": [
    "plt.figure(figsize=(30,10))\n",
    "sns.countplot(delivery['batting_team'])"
   ]
  },
  {
   "cell_type": "code",
   "execution_count": null,
   "id": "438ddd1b-e9ae-4c5f-8adb-523be50d629a",
   "metadata": {},
   "outputs": [],
   "source": [
    "plt.figure(figsize=(30,10))\n",
    "sns.countplot(delivery['bowling_team'])"
   ]
  },
  {
   "cell_type": "code",
   "execution_count": null,
   "id": "6c3319a8-db51-4989-9df4-cc39d1e02b58",
   "metadata": {},
   "outputs": [],
   "source": [
    "plt.figure(figsize=(30,10))\n",
    "sns.countplot(delivery['batsman'])"
   ]
  },
  {
   "cell_type": "code",
   "execution_count": null,
   "id": "45af5515-68d4-43d6-99d2-746edb0f87b3",
   "metadata": {},
   "outputs": [],
   "source": [
    "plt.figure(figsize=(30,10))\n",
    "match['winner'].value_counts().plot.pie() "
   ]
  },
  {
   "cell_type": "code",
   "execution_count": null,
   "id": "a3638ba2-4a9a-4686-b654-61232afb08db",
   "metadata": {},
   "outputs": [],
   "source": [
    "plt.figure(figsize=(40,10))\n",
    "match['city'].value_counts().plot.pie() "
   ]
  },
  {
   "cell_type": "code",
   "execution_count": null,
   "id": "883d11b7-6206-4a6c-aa27-869b72a9177c",
   "metadata": {},
   "outputs": [],
   "source": [
    "plt.figure(figsize=(30,10))\n",
    "match['toss_winner'].value_counts().plot.pie() "
   ]
  },
  {
   "cell_type": "code",
   "execution_count": null,
   "id": "627e7ee0-e3ad-491e-b971-793041292088",
   "metadata": {},
   "outputs": [],
   "source": [
    "plt.figure(figsize=(30,10))\n",
    "match['toss_decision'].value_counts().plot.pie() "
   ]
  },
  {
   "cell_type": "code",
   "execution_count": null,
   "id": "972ae0df-d4f9-40f6-81ce-c3e7627a39b4",
   "metadata": {},
   "outputs": [],
   "source": [
    "total_score_df.head()"
   ]
  },
  {
   "cell_type": "code",
   "execution_count": null,
   "id": "f700c5f5-a0bf-472f-8080-6c5dd92db809",
   "metadata": {},
   "outputs": [],
   "source": [
    "match.merge(total_score_df[['match_id', 'total_runs']], left_on='id', right_on='match_id')"
   ]
  },
  {
   "cell_type": "code",
   "execution_count": null,
   "id": "cb6ccfbc-3536-4caa-8957-63ee554a4a5c",
   "metadata": {},
   "outputs": [],
   "source": [
    "match_df = match.merge(total_score_df[['match_id', 'total_runs']], left_on='id', right_on='match_id')"
   ]
  },
  {
   "cell_type": "code",
   "execution_count": null,
   "id": "58c55aed-75c8-445a-bde5-b8ba190977f0",
   "metadata": {},
   "outputs": [],
   "source": [
    "match_df.head()"
   ]
  },
  {
   "cell_type": "code",
   "execution_count": null,
   "id": "308cf3c9-d40a-4fb5-969c-2dcaa237b35f",
   "metadata": {},
   "outputs": [],
   "source": [
    "match_df.columns"
   ]
  },
  {
   "cell_type": "code",
   "execution_count": null,
   "id": "eb72cdc9-8442-4e9c-8b6e-4ef496a9ac12",
   "metadata": {},
   "outputs": [],
   "source": [
    "match_df['team1'].unique()"
   ]
  },
  {
   "cell_type": "code",
   "execution_count": null,
   "id": "461c0213-66e1-44b6-800e-9ea4c4ff6922",
   "metadata": {},
   "outputs": [],
   "source": [
    "teams = ['Sunrisers Hyderabad', 'Mumbai Indians', 'Royal Challengers Bangalore','Kolkata Knight Riders',  'Kings XI Punjab',\n",
    "       'Chennai Super Kings', 'Rajasthan Royals','Delhi Capitals']\n",
    "teams"
   ]
  },
  {
   "cell_type": "code",
   "execution_count": null,
   "id": "eb1adc64-947c-480e-bc16-6515a02f0cb9",
   "metadata": {},
   "outputs": [],
   "source": [
    "match_df['team1'] = match_df['team1'].str.replace('Delhi Daredevils', 'Delhi Capitals')\n",
    "match_df['team2'] = match_df['team2'].str.replace('Delhi Daredevils', 'Delhi Capitals')\n",
    "    \n",
    "match_df['team1'] = match_df['team1'].str.replace('Deccan Chargers', 'Sunrisers Hyderabad')\n",
    "match_df['team2'] = match_df['team2'].str.replace('Deccan Chargers', 'Sunrisers Hyderabad')"
   ]
  },
  {
   "cell_type": "code",
   "execution_count": null,
   "id": "fd85b3b0-7e5c-4acb-b182-04847bd2b287",
   "metadata": {},
   "outputs": [],
   "source": [
    "match_df.head()"
   ]
  },
  {
   "cell_type": "code",
   "execution_count": null,
   "id": "4f9bb495-5190-4adb-9e01-2cacda235333",
   "metadata": {},
   "outputs": [],
   "source": [
    "match_df = match_df[match_df['team1'].isin(teams)]\n",
    "match_df = match_df[match_df['team2'].isin(teams)]"
   ]
  },
  {
   "cell_type": "code",
   "execution_count": null,
   "id": "8dc480f1-2d33-42e0-8a40-604a3c07a3ef",
   "metadata": {},
   "outputs": [],
   "source": [
    "match_df.shape"
   ]
  },
  {
   "cell_type": "code",
   "execution_count": null,
   "id": "0f7374e0-9381-499f-ab06-b5903f9e25ec",
   "metadata": {},
   "outputs": [],
   "source": [
    "match_df.head()"
   ]
  },
  {
   "cell_type": "code",
   "execution_count": null,
   "id": "69189127-fb65-4548-b0ef-2d31ed5f8d22",
   "metadata": {},
   "outputs": [],
   "source": [
    "match_df.columns"
   ]
  },
  {
   "cell_type": "code",
   "execution_count": null,
   "id": "46be41c2-51e7-41fe-83b8-0aa08b8a4ed5",
   "metadata": {},
   "outputs": [],
   "source": [
    "match_df = match_df[match_df['dl_applied'] == 0]"
   ]
  },
  {
   "cell_type": "code",
   "execution_count": null,
   "id": "ac0bd898-b144-41da-85eb-be738655a55b",
   "metadata": {},
   "outputs": [],
   "source": [
    "match_df = match_df[['match_id', 'city', 'winner', 'total_runs']]"
   ]
  },
  {
   "cell_type": "code",
   "execution_count": null,
   "id": "6e795592-cc23-4565-b6a7-7474445ec068",
   "metadata": {},
   "outputs": [],
   "source": [
    "match_df.head()"
   ]
  },
  {
   "cell_type": "code",
   "execution_count": null,
   "id": "c1f448a2-fbe3-4cda-86d2-6d63c5cabe60",
   "metadata": {},
   "outputs": [],
   "source": [
    "delivery_df = match_df.merge(delivery, on='match_id')"
   ]
  },
  {
   "cell_type": "code",
   "execution_count": null,
   "id": "f96f062d-fe57-49f9-b322-8a483a28ad08",
   "metadata": {},
   "outputs": [],
   "source": [
    "delivery_df.head()"
   ]
  },
  {
   "cell_type": "code",
   "execution_count": null,
   "id": "3931ee94-3c1a-45df-97de-7230b4d72738",
   "metadata": {},
   "outputs": [],
   "source": [
    "delivery_df = delivery_df[delivery_df['inning']  == 2]"
   ]
  },
  {
   "cell_type": "code",
   "execution_count": null,
   "id": "af1f0a87-0363-45c6-9438-523a8a5d59a2",
   "metadata": {},
   "outputs": [],
   "source": [
    "delivery_df.head()"
   ]
  },
  {
   "cell_type": "code",
   "execution_count": null,
   "id": "01e3b907-b9f3-4e91-8071-c8c3872d4d90",
   "metadata": {},
   "outputs": [],
   "source": [
    "delivery_df.columns"
   ]
  },
  {
   "cell_type": "code",
   "execution_count": null,
   "id": "ca0ac36c-3ad9-4957-ab21-81c63dd26437",
   "metadata": {},
   "outputs": [],
   "source": [
    "delivery_df['current_score']= delivery_df.groupby('match_id').cumsum()['total_runs_y']"
   ]
  },
  {
   "cell_type": "code",
   "execution_count": null,
   "id": "fd4bfa3b-3321-40d0-b935-9ac7f70f4492",
   "metadata": {},
   "outputs": [],
   "source": [
    "delivery_df.head()"
   ]
  },
  {
   "cell_type": "code",
   "execution_count": null,
   "id": "e7162ce5-273e-4e62-8887-c730c04a1113",
   "metadata": {},
   "outputs": [],
   "source": [
    "delivery_df['runs_left']= delivery_df['total_runs_x'] - delivery_df['current_score']"
   ]
  },
  {
   "cell_type": "code",
   "execution_count": null,
   "id": "0999cb3f-f771-4298-a6a4-eef3331e07cc",
   "metadata": {},
   "outputs": [],
   "source": [
    "delivery_df.head()"
   ]
  },
  {
   "cell_type": "code",
   "execution_count": null,
   "id": "4da49c01-82fb-4dbc-aff4-f3cf19f00ccb",
   "metadata": {},
   "outputs": [],
   "source": [
    "delivery_df['balls_left']= 126 - (delivery_df['over']*6 + delivery_df['ball'])"
   ]
  },
  {
   "cell_type": "code",
   "execution_count": null,
   "id": "25affbe4-c031-48ec-bb19-57c61ea7fb82",
   "metadata": {},
   "outputs": [],
   "source": [
    "delivery_df.head()"
   ]
  },
  {
   "cell_type": "markdown",
   "id": "608e2637-bb1f-43b2-bfcb-70468ce88d91",
   "metadata": {},
   "source": [
    "# Wicket Left"
   ]
  },
  {
   "cell_type": "code",
   "execution_count": null,
   "id": "c3827953-9536-4e5e-8bf1-2c05f57dc006",
   "metadata": {},
   "outputs": [],
   "source": [
    "delivery_df['player_dismissed'] = delivery_df['player_dismissed'].fillna(\"0\")"
   ]
  },
  {
   "cell_type": "code",
   "execution_count": null,
   "id": "f6c5895e-40d5-4051-9e4b-974e80d58c24",
   "metadata": {},
   "outputs": [],
   "source": [
    "delivery_df.head()"
   ]
  },
  {
   "cell_type": "code",
   "execution_count": null,
   "id": "b5b43610-fe81-4893-9265-521500102ebe",
   "metadata": {},
   "outputs": [],
   "source": [
    "delivery_df.tail()"
   ]
  },
  {
   "cell_type": "code",
   "execution_count": null,
   "id": "dfa7be3e-e845-4cae-bae8-2abf11d0e8f3",
   "metadata": {},
   "outputs": [],
   "source": [
    "delivery_df['player_dismissed'] = delivery_df['player_dismissed'].apply(lambda x:x if x=='0' else \"1\")"
   ]
  },
  {
   "cell_type": "code",
   "execution_count": null,
   "id": "1ab2312e-16f0-4c8b-81a4-9f5a29828bd9",
   "metadata": {},
   "outputs": [],
   "source": [
    "delivery_df.head()"
   ]
  },
  {
   "cell_type": "code",
   "execution_count": null,
   "id": "9bab9e46-18ba-4303-8f70-32e397c29df9",
   "metadata": {},
   "outputs": [],
   "source": [
    "delivery_df['player_dismissed'] = delivery_df['player_dismissed'].astype('int')"
   ]
  },
  {
   "cell_type": "code",
   "execution_count": null,
   "id": "ff5c14ce-f493-43a7-b861-e1e2643be000",
   "metadata": {},
   "outputs": [],
   "source": [
    "wicket = delivery_df.groupby('match_id').cumsum()['player_dismissed'].values"
   ]
  },
  {
   "cell_type": "code",
   "execution_count": null,
   "id": "a11ef6d0-72eb-487a-9017-ea98aaf7b86b",
   "metadata": {},
   "outputs": [],
   "source": [
    "wicket"
   ]
  },
  {
   "cell_type": "code",
   "execution_count": null,
   "id": "8a590f6c-3168-4c85-b8ab-815832deda8c",
   "metadata": {},
   "outputs": [],
   "source": [
    "delivery_df['wicket'] = 10-wicket"
   ]
  },
  {
   "cell_type": "code",
   "execution_count": null,
   "id": "0ba06d24-fb0c-490e-a0d1-42e9bd909a8b",
   "metadata": {},
   "outputs": [],
   "source": [
    "delivery_df.head()"
   ]
  },
  {
   "cell_type": "code",
   "execution_count": null,
   "id": "7db14f5d-66f7-4c31-804d-fa7d5d8bee2b",
   "metadata": {},
   "outputs": [],
   "source": [
    "delivery_df.tail()"
   ]
  },
  {
   "cell_type": "markdown",
   "id": "cd705c57-0159-418a-a103-d1e318ee37eb",
   "metadata": {},
   "source": [
    "# Current Run Rate"
   ]
  },
  {
   "cell_type": "code",
   "execution_count": null,
   "id": "3587af90-8686-4d34-9fa2-db676dd224a9",
   "metadata": {},
   "outputs": [],
   "source": [
    "delivery_df['crr']= (delivery_df['current_score']*6)/(120-delivery_df['balls_left'])"
   ]
  },
  {
   "cell_type": "code",
   "execution_count": null,
   "id": "23adc5f6-2d18-450a-b3ec-82e72c6b0c39",
   "metadata": {},
   "outputs": [],
   "source": [
    "delivery_df.head()"
   ]
  },
  {
   "cell_type": "markdown",
   "id": "30450e67-8d12-4880-93db-6bdb4d90bece",
   "metadata": {},
   "source": [
    "# Required Run Rate"
   ]
  },
  {
   "cell_type": "code",
   "execution_count": null,
   "id": "04256c0a-cef4-48a1-9883-c38f44c9e496",
   "metadata": {},
   "outputs": [],
   "source": [
    "delivery_df['rrr']= (delivery_df['runs_left']*6)/(delivery_df['balls_left'])"
   ]
  },
  {
   "cell_type": "code",
   "execution_count": null,
   "id": "fd79e2a3-4043-44e3-ae9f-ba0f20c96588",
   "metadata": {},
   "outputs": [],
   "source": [
    "delivery_df.tail()"
   ]
  },
  {
   "cell_type": "code",
   "execution_count": null,
   "id": "5b4bba49-cf3a-45b8-9226-d5bc9286ba7f",
   "metadata": {},
   "outputs": [],
   "source": [
    "def result(row):\n",
    "    return 1 if row['batting_team'] == row['winner'] else 0"
   ]
  },
  {
   "cell_type": "code",
   "execution_count": null,
   "id": "535a03d1-353d-4fab-8674-53e7d1022109",
   "metadata": {},
   "outputs": [],
   "source": [
    "delivery_df['result'] = delivery_df.apply(result, axis=1)"
   ]
  },
  {
   "cell_type": "code",
   "execution_count": null,
   "id": "9aca3962-a805-434a-b73e-647ff0b7b0f2",
   "metadata": {},
   "outputs": [],
   "source": [
    "delivery_df.head()"
   ]
  },
  {
   "cell_type": "code",
   "execution_count": null,
   "id": "d480b8db-6103-4f12-9a19-eab393243008",
   "metadata": {},
   "outputs": [],
   "source": [
    "final_df = delivery_df[['batting_team', 'bowling_team', 'city', 'runs_left', 'balls_left', 'wicket', 'total_runs_x', 'crr', 'rrr', 'result']]"
   ]
  },
  {
   "cell_type": "code",
   "execution_count": null,
   "id": "7d63e540-d7cc-489a-86ac-56eefd322c7d",
   "metadata": {},
   "outputs": [],
   "source": [
    "final_df.head()"
   ]
  },
  {
   "cell_type": "code",
   "execution_count": null,
   "id": "3d0366e5-ca19-44f7-9be1-50f9e8be5aa4",
   "metadata": {},
   "outputs": [],
   "source": [
    "final_df"
   ]
  },
  {
   "cell_type": "code",
   "execution_count": null,
   "id": "8a1bb21e-c6fb-4988-a517-9c19942d517f",
   "metadata": {},
   "outputs": [],
   "source": [
    "final_df.describe()"
   ]
  },
  {
   "cell_type": "code",
   "execution_count": null,
   "id": "5bb95bc0-ab90-4dc2-ac5e-fcf2d5855ff5",
   "metadata": {},
   "outputs": [],
   "source": [
    "final_df.shape"
   ]
  },
  {
   "cell_type": "code",
   "execution_count": null,
   "id": "6be58df4-e900-4c52-89a4-91fea4bc54e3",
   "metadata": {},
   "outputs": [],
   "source": [
    "final_df = final_df.sample(final_df.shape[0])"
   ]
  },
  {
   "cell_type": "code",
   "execution_count": null,
   "id": "f0355218-284a-4789-8ad0-2672812d48fd",
   "metadata": {},
   "outputs": [],
   "source": [
    "final_df.sample()"
   ]
  },
  {
   "cell_type": "code",
   "execution_count": null,
   "id": "7e55e499-8122-4009-b6fb-2346ef615ba7",
   "metadata": {},
   "outputs": [],
   "source": [
    "final_df.head()"
   ]
  },
  {
   "cell_type": "code",
   "execution_count": null,
   "id": "9fd54ca4-908a-4843-9fbd-0da97569565f",
   "metadata": {},
   "outputs": [],
   "source": [
    "final_df.dropna(inplace=True)"
   ]
  },
  {
   "cell_type": "code",
   "execution_count": null,
   "id": "a4489cf9-3173-4061-8665-0fa86549f824",
   "metadata": {},
   "outputs": [],
   "source": [
    "final_df.shape"
   ]
  },
  {
   "cell_type": "code",
   "execution_count": null,
   "id": "939c2ff1-bd6b-4c96-b47b-4e87ae56f134",
   "metadata": {},
   "outputs": [],
   "source": [
    "final_df = final_df[final_df['balls_left'] != 0]"
   ]
  },
  {
   "cell_type": "code",
   "execution_count": null,
   "id": "e6754e89-9656-4eef-abe5-04cd7286b78f",
   "metadata": {},
   "outputs": [],
   "source": [
    "final_df.describe()"
   ]
  },
  {
   "cell_type": "code",
   "execution_count": null,
   "id": "5e22b2f9-0901-4cd8-92b9-1e4abcbac7ee",
   "metadata": {},
   "outputs": [],
   "source": [
    "x = final_df.iloc[:, :-1]\n",
    "y = final_df.iloc[:, -1]"
   ]
  },
  {
   "cell_type": "code",
   "execution_count": null,
   "id": "17483398-c8e9-49ac-91a3-9443762b8374",
   "metadata": {},
   "outputs": [],
   "source": [
    "y.head()"
   ]
  },
  {
   "cell_type": "code",
   "execution_count": null,
   "id": "dc110924-e212-49f2-a63a-5bba0a4634a9",
   "metadata": {},
   "outputs": [],
   "source": [
    "x.head()"
   ]
  },
  {
   "cell_type": "code",
   "execution_count": null,
   "id": "c5c069c1-764c-4f40-b671-4d31aa899225",
   "metadata": {},
   "outputs": [],
   "source": [
    "from sklearn.model_selection import train_test_split\n",
    "x_train, x_test, y_train, y_test = train_test_split(x,y, test_size=0.2, random_state=42)"
   ]
  },
  {
   "cell_type": "code",
   "execution_count": null,
   "id": "98113903-aa6a-49e5-822e-86eb01cad3c8",
   "metadata": {},
   "outputs": [],
   "source": [
    "x_train"
   ]
  },
  {
   "cell_type": "code",
   "execution_count": null,
   "id": "bdd59046-b993-4774-a186-9a7f784898a6",
   "metadata": {},
   "outputs": [],
   "source": [
    "x_test"
   ]
  },
  {
   "cell_type": "code",
   "execution_count": null,
   "id": "d6073a7d-8f6b-46ee-be75-5f2e56236bf8",
   "metadata": {},
   "outputs": [],
   "source": [
    "x_train.info()"
   ]
  },
  {
   "cell_type": "code",
   "execution_count": null,
   "id": "520083fe-0eb0-4a09-b9c2-879d0189ee67",
   "metadata": {},
   "outputs": [],
   "source": [
    "from sklearn.compose import ColumnTransformer\n",
    "from sklearn.preprocessing import OneHotEncoder\n",
    "\n",
    "trf = ColumnTransformer([\n",
    "    ('trf', OneHotEncoder(sparse=False, drop='first'),['batting_team', 'bowling_team', 'city'])\n",
    "]\n",
    ",remainder='passthrough')"
   ]
  },
  {
   "cell_type": "code",
   "execution_count": null,
   "id": "3b6672db-0de0-49b1-b8ad-5768aca7a1f1",
   "metadata": {},
   "outputs": [],
   "source": [
    "from sklearn.linear_model import LogisticRegression\n",
    "from sklearn.pipeline import Pipeline"
   ]
  },
  {
   "cell_type": "code",
   "execution_count": null,
   "id": "e5d8d2c5-7306-4834-a910-be3319066994",
   "metadata": {},
   "outputs": [],
   "source": [
    "pipe = Pipeline(steps=[\n",
    "    ('step1', trf),\n",
    "    ('step2', LogisticRegression(solver='liblinear'))\n",
    "])"
   ]
  },
  {
   "cell_type": "code",
   "execution_count": null,
   "id": "3e42a18a-1bfb-4da6-8aab-011fb3b5ac9a",
   "metadata": {},
   "outputs": [],
   "source": [
    "pipe.fit(x_train, y_train)"
   ]
  },
  {
   "cell_type": "code",
   "execution_count": null,
   "id": "ae293d2f-a8ed-4f27-af96-8c0581afd072",
   "metadata": {},
   "outputs": [],
   "source": [
    "y_pred = pipe.predict(x_test)"
   ]
  },
  {
   "cell_type": "code",
   "execution_count": null,
   "id": "6d569d49-54c0-41e5-9fe5-33bf21d69791",
   "metadata": {},
   "outputs": [],
   "source": [
    "y_pred"
   ]
  },
  {
   "cell_type": "code",
   "execution_count": null,
   "id": "377d0407-2be4-492f-bc2b-c94a464d4011",
   "metadata": {},
   "outputs": [],
   "source": [
    "from sklearn.metrics import accuracy_score\n",
    "accuracy_score(y_test, y_pred)"
   ]
  },
  {
   "cell_type": "markdown",
   "id": "313ab1e0-492c-4ab6-825d-85ac3e893de4",
   "metadata": {},
   "source": [
    "# RandomForest"
   ]
  },
  {
   "cell_type": "code",
   "execution_count": null,
   "id": "01565f68-0d12-48fd-b515-3c65435b9d2a",
   "metadata": {},
   "outputs": [],
   "source": [
    "from sklearn.ensemble import RandomForestClassifier"
   ]
  },
  {
   "cell_type": "code",
   "execution_count": null,
   "id": "609658f7-d0a7-4d91-b1fd-439b19b6aa05",
   "metadata": {},
   "outputs": [],
   "source": [
    "pipe = Pipeline(steps=[\n",
    "    ('step1', trf),\n",
    "    ('step2', RandomForestClassifier())\n",
    "])"
   ]
  },
  {
   "cell_type": "code",
   "execution_count": null,
   "id": "e6ce1608-a74f-4a8a-9902-8995435d7c02",
   "metadata": {},
   "outputs": [],
   "source": [
    "pipe.fit(x_train, y_train)"
   ]
  },
  {
   "cell_type": "code",
   "execution_count": null,
   "id": "ba4b6f45-5cca-45a7-87f1-4f7c5a252a1a",
   "metadata": {},
   "outputs": [],
   "source": [
    "from sklearn.metrics import accuracy_score\n",
    "accuracy_score(y_test, y_pred)"
   ]
  },
  {
   "cell_type": "code",
   "execution_count": null,
   "id": "34483de6-6aca-435d-8d61-59831e703677",
   "metadata": {},
   "outputs": [],
   "source": [
    "pipe.predict_proba(x_test)[1]"
   ]
  },
  {
   "cell_type": "code",
   "execution_count": null,
   "id": "2b270b4d-bc77-4aca-bbf0-ec73c3980850",
   "metadata": {},
   "outputs": [],
   "source": [
    "x_test"
   ]
  },
  {
   "cell_type": "code",
   "execution_count": null,
   "id": "60cb4524-509a-45d9-b54c-f0a6c598cb36",
   "metadata": {},
   "outputs": [],
   "source": [
    "import pickle\n",
    "pickle.dump(pipe, open('model.pkl', 'wb'))"
   ]
  },
  {
   "cell_type": "code",
   "execution_count": null,
   "id": "e9287240-e66d-480c-8370-cbc8f0db1a73",
   "metadata": {},
   "outputs": [],
   "source": []
  }
 ],
 "metadata": {
  "kernelspec": {
   "display_name": "Python 3 (ipykernel)",
   "language": "python",
   "name": "python3"
  },
  "language_info": {
   "codemirror_mode": {
    "name": "ipython",
    "version": 3
   },
   "file_extension": ".py",
   "mimetype": "text/x-python",
   "name": "python",
   "nbconvert_exporter": "python",
   "pygments_lexer": "ipython3",
   "version": "3.10.3"
  }
 },
 "nbformat": 4,
 "nbformat_minor": 5
}
